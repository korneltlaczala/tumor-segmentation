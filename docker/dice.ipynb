{
 "cells": [
  {
   "cell_type": "code",
   "execution_count": 4,
   "id": "1b2f9b5e",
   "metadata": {},
   "outputs": [],
   "source": [
    "import os\n",
    "import nibabel as nib\n",
    "import numpy as np\n",
    "from sklearn.metrics import f1_score\n",
    "\n",
    "def dice_score(y_true, y_pred, label):\n",
    "    y_true_bin = (y_true == label).astype(np.uint8)\n",
    "    y_pred_bin = (y_pred == label).astype(np.uint8)\n",
    "    intersection = np.sum(y_true_bin * y_pred_bin)\n",
    "    return (2. * intersection) / (np.sum(y_true_bin) + np.sum(y_pred_bin) + 1e-8)\n",
    "\n",
    "def get_id_from_filename(name):\n",
    "    # Obsłuży np. BraTS2021_00009_seg.nii.gz → 00009\n",
    "    return name.split(\"_\")[1]\n",
    "\n",
    "def evaluate(seg_dir, pred_dir):\n",
    "    labels = [1, 2, 3]\n",
    "    results = {}\n",
    "\n",
    "    for seg_name in os.listdir(seg_dir):\n",
    "        if not seg_name.endswith(\".nii.gz\"):\n",
    "            continue\n",
    "\n",
    "        case_id = get_id_from_filename(seg_name)\n",
    "        pred_name = f\"{case_id}.nii.gz\"\n",
    "\n",
    "        seg_path = os.path.join(seg_dir, seg_name)\n",
    "        pred_path = os.path.join(pred_dir, pred_name)\n",
    "\n",
    "        if not os.path.exists(pred_path):\n",
    "            print(f\"Prediction not found for {case_id}\")\n",
    "            continue\n",
    "\n",
    "        seg_img = nib.load(seg_path).get_fdata()\n",
    "        pred_img = nib.load(pred_path).get_fdata()\n",
    "\n",
    "        case_result = {}\n",
    "        for l in labels:\n",
    "            dice = dice_score(seg_img, pred_img, l)\n",
    "            case_result[f\"Dice_label_{l}\"] = dice\n",
    "\n",
    "        results[case_id] = case_result\n",
    "\n",
    "    return results\n"
   ]
  },
  {
   "cell_type": "code",
   "execution_count": 5,
   "id": "b47c4db0",
   "metadata": {},
   "outputs": [
    {
     "name": "stdout",
     "output_type": "stream",
     "text": [
      "00009:\n",
      "  Dice_label_1: 0.9474\n",
      "  Dice_label_2: 0.9257\n",
      "  Dice_label_3: 0.0000\n"
     ]
    }
   ],
   "source": [
    "seg_dir = \"BraTS2021/segmentation\"\n",
    "pred_dir = \"BraTS2021/output\"\n",
    "results = evaluate(seg_dir, pred_dir)\n",
    "\n",
    "for case, scores in results.items():\n",
    "    print(f\"{case}:\")\n",
    "    for label, dice in scores.items():\n",
    "        print(f\"  {label}: {dice:.4f}\")"
   ]
  },
  {
   "cell_type": "code",
   "execution_count": 6,
   "id": "2244c325",
   "metadata": {},
   "outputs": [
    {
     "name": "stdout",
     "output_type": "stream",
     "text": [
      "00088:\n",
      "  Dice_label_1: 0.9665\n",
      "  Dice_label_2: 0.9458\n",
      "  Dice_label_3: 0.0000\n",
      "00320:\n",
      "  Dice_label_1: 0.5557\n",
      "  Dice_label_2: 0.8306\n",
      "  Dice_label_3: 0.0000\n",
      "00577:\n",
      "  Dice_label_1: 0.9687\n",
      "  Dice_label_2: 0.9558\n",
      "  Dice_label_3: 0.0000\n",
      "00624:\n",
      "  Dice_label_1: 0.9693\n",
      "  Dice_label_2: 0.8603\n",
      "  Dice_label_3: 0.0000\n",
      "00704:\n",
      "  Dice_label_1: 0.9879\n",
      "  Dice_label_2: 0.8408\n",
      "  Dice_label_3: 0.0000\n",
      "00714:\n",
      "  Dice_label_1: 0.9864\n",
      "  Dice_label_2: 0.9823\n",
      "  Dice_label_3: 0.0000\n",
      "00772:\n",
      "  Dice_label_1: 0.9848\n",
      "  Dice_label_2: 0.6948\n",
      "  Dice_label_3: 0.0000\n",
      "00816:\n",
      "  Dice_label_1: 0.9731\n",
      "  Dice_label_2: 0.9865\n",
      "  Dice_label_3: 0.0000\n",
      "01005:\n",
      "  Dice_label_1: 0.9146\n",
      "  Dice_label_2: 0.9217\n",
      "  Dice_label_3: 0.0000\n",
      "01116:\n",
      "  Dice_label_1: 0.9716\n",
      "  Dice_label_2: 0.6603\n",
      "  Dice_label_3: 0.0000\n",
      "01250:\n",
      "  Dice_label_1: 0.8937\n",
      "  Dice_label_2: 0.9215\n",
      "  Dice_label_3: 0.0000\n",
      "01498:\n",
      "  Dice_label_1: 0.7601\n",
      "  Dice_label_2: 0.8592\n",
      "  Dice_label_3: 0.0000\n"
     ]
    }
   ],
   "source": [
    "seg_dir = \"BraTS2025Pre/segmentation\"\n",
    "pred_dir = \"BraTS2025Pre/output\"\n",
    "results = evaluate(seg_dir, pred_dir)\n",
    "\n",
    "for case, scores in results.items():\n",
    "    print(f\"{case}:\")\n",
    "    for label, dice in scores.items():\n",
    "        print(f\"  {label}: {dice:.4f}\")"
   ]
  }
 ],
 "metadata": {
  "kernelspec": {
   "display_name": "Python 3",
   "language": "python",
   "name": "python3"
  },
  "language_info": {
   "codemirror_mode": {
    "name": "ipython",
    "version": 3
   },
   "file_extension": ".py",
   "mimetype": "text/x-python",
   "name": "python",
   "nbconvert_exporter": "python",
   "pygments_lexer": "ipython3",
   "version": "3.13.2"
  }
 },
 "nbformat": 4,
 "nbformat_minor": 5
}
