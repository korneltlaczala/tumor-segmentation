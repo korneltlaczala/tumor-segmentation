{
 "cells": [
  {
   "cell_type": "code",
   "execution_count": 3,
   "id": "f3d6dd40",
   "metadata": {},
   "outputs": [],
   "source": [
    "import os\n",
    "import nibabel as nib\n",
    "import numpy as np\n",
    "import matplotlib.pyplot as plt\n",
    "import pandas as pd\n",
    "from tqdm import tqdm"
   ]
  },
  {
   "cell_type": "code",
   "execution_count": 4,
   "id": "d82d0564",
   "metadata": {},
   "outputs": [],
   "source": [
    "def dice_score(y_true, y_pred, label):\n",
    "    y_true_bin = (y_true == label).astype(np.uint8)\n",
    "    y_pred_bin = (y_pred == label).astype(np.uint8)\n",
    "    intersection = np.sum(y_true_bin * y_pred_bin)\n",
    "    return (2. * intersection) / (np.sum(y_true_bin) + np.sum(y_pred_bin) + 1e-8)\n",
    "\n",
    "def dice_whole_tumor(y_true, y_pred, new_data=False):\n",
    "    if new_data:\n",
    "        labels = [1, 2, 3]\n",
    "    else:\n",
    "        labels = [1, 2, 4]\n",
    "    y_true_bin = np.isin(y_true, labels).astype(np.uint8)\n",
    "    y_pred_bin = np.isin(y_pred, labels).astype(np.uint8)\n",
    "    intersection = np.sum(y_true_bin * y_pred_bin)\n",
    "    return (2. * intersection) / (np.sum(y_true_bin) + np.sum(y_pred_bin) + 1e-8)\n",
    "\n",
    "def get_id_from_filename(name):\n",
    "    return name.split(\"_\")[1]\n",
    "\n",
    "def evaluate(seg_dir, pred_dir, new_data=False):\n",
    "    if new_data:\n",
    "        labels = [1, 2, 3]\n",
    "    else:\n",
    "        labels = [1, 2, 4]\n",
    "    results = {}\n",
    "\n",
    "    for seg_name in tqdm(os.listdir(seg_dir)):\n",
    "        if not seg_name.endswith(\".nii.gz\"):\n",
    "            continue\n",
    "\n",
    "        case_id = get_id_from_filename(seg_name)\n",
    "        pred_name = f\"{case_id}.nii.gz\"\n",
    "\n",
    "        seg_path = os.path.join(seg_dir, seg_name)\n",
    "        pred_path = os.path.join(pred_dir, pred_name)\n",
    "\n",
    "        if not os.path.exists(pred_path):\n",
    "            print(f\"Prediction not found for {case_id}\")\n",
    "            continue\n",
    "\n",
    "        seg_img = nib.load(seg_path).get_fdata()\n",
    "        pred_img = nib.load(pred_path).get_fdata()\n",
    "        if new_data:\n",
    "            pred_img = np.copy(pred_img)\n",
    "            pred_img[pred_img == 4] = 3\n",
    "\n",
    "        case_result = {}\n",
    "        for l in labels:\n",
    "            dice = dice_score(seg_img, pred_img, l)\n",
    "            case_result[f\"Dice_label_{l}\"] = dice\n",
    "\n",
    "        wt_dice = dice_whole_tumor(seg_img, pred_img)\n",
    "        case_result[\"Dice_whole_tumor\"] = wt_dice\n",
    "\n",
    "        results[case_id] = case_result\n",
    "\n",
    "    return results"
   ]
  },
  {
   "cell_type": "code",
   "execution_count": 7,
   "id": "4d4b4072",
   "metadata": {},
   "outputs": [
    {
     "ename": "KeyboardInterrupt",
     "evalue": "",
     "output_type": "error",
     "traceback": [
      "\u001b[31m---------------------------------------------------------------------------\u001b[39m",
      "\u001b[31mKeyboardInterrupt\u001b[39m                         Traceback (most recent call last)",
      "\u001b[36mCell\u001b[39m\u001b[36m \u001b[39m\u001b[32mIn[7]\u001b[39m\u001b[32m, line 3\u001b[39m\n\u001b[32m      1\u001b[39m seg_dir = \u001b[33m\"\u001b[39m\u001b[33m../brats_data/BraTS2021/segmentation\u001b[39m\u001b[33m\"\u001b[39m\n\u001b[32m      2\u001b[39m pred_dir = \u001b[33m\"\u001b[39m\u001b[33m../brats_data/BraTS2021/output\u001b[39m\u001b[33m\"\u001b[39m\n\u001b[32m----> \u001b[39m\u001b[32m3\u001b[39m results = \u001b[43mevaluate\u001b[49m\u001b[43m(\u001b[49m\u001b[43mseg_dir\u001b[49m\u001b[43m,\u001b[49m\u001b[43m \u001b[49m\u001b[43mpred_dir\u001b[49m\u001b[43m)\u001b[49m\n\u001b[32m      5\u001b[39m \u001b[38;5;28;01mfor\u001b[39;00m case, scores \u001b[38;5;129;01min\u001b[39;00m results.items():\n\u001b[32m      6\u001b[39m     \u001b[38;5;28mprint\u001b[39m(\u001b[33mf\u001b[39m\u001b[33m\"\u001b[39m\u001b[38;5;132;01m{\u001b[39;00mcase\u001b[38;5;132;01m}\u001b[39;00m\u001b[33m:\u001b[39m\u001b[33m\"\u001b[39m)\n",
      "\u001b[36mCell\u001b[39m\u001b[36m \u001b[39m\u001b[32mIn[1]\u001b[39m\u001b[32m, line 48\u001b[39m, in \u001b[36mevaluate\u001b[39m\u001b[34m(seg_dir, pred_dir, new_data)\u001b[39m\n\u001b[32m     45\u001b[39m     \u001b[38;5;28mprint\u001b[39m(\u001b[33mf\u001b[39m\u001b[33m\"\u001b[39m\u001b[33mPrediction not found for \u001b[39m\u001b[38;5;132;01m{\u001b[39;00mcase_id\u001b[38;5;132;01m}\u001b[39;00m\u001b[33m\"\u001b[39m)\n\u001b[32m     46\u001b[39m     \u001b[38;5;28;01mcontinue\u001b[39;00m\n\u001b[32m---> \u001b[39m\u001b[32m48\u001b[39m seg_img = \u001b[43mnib\u001b[49m\u001b[43m.\u001b[49m\u001b[43mload\u001b[49m\u001b[43m(\u001b[49m\u001b[43mseg_path\u001b[49m\u001b[43m)\u001b[49m\u001b[43m.\u001b[49m\u001b[43mget_fdata\u001b[49m\u001b[43m(\u001b[49m\u001b[43m)\u001b[49m\n\u001b[32m     49\u001b[39m pred_img = nib.load(pred_path).get_fdata()\n\u001b[32m     50\u001b[39m \u001b[38;5;28;01mif\u001b[39;00m new_data:\n",
      "\u001b[36mFile \u001b[39m\u001b[32m~/github/wb2/tumor-segmentation/venv/lib/python3.12/site-packages/nibabel/dataobj_images.py:374\u001b[39m, in \u001b[36mDataobjImage.get_fdata\u001b[39m\u001b[34m(self, caching, dtype)\u001b[39m\n\u001b[32m    370\u001b[39m         \u001b[38;5;28;01mreturn\u001b[39;00m \u001b[38;5;28mself\u001b[39m._fdata_cache\n\u001b[32m    371\u001b[39m \u001b[38;5;66;03m# Always return requested data type\u001b[39;00m\n\u001b[32m    372\u001b[39m \u001b[38;5;66;03m# For array proxies, will attempt to confine data array to dtype\u001b[39;00m\n\u001b[32m    373\u001b[39m \u001b[38;5;66;03m# during scaling\u001b[39;00m\n\u001b[32m--> \u001b[39m\u001b[32m374\u001b[39m data = \u001b[43mnp\u001b[49m\u001b[43m.\u001b[49m\u001b[43masanyarray\u001b[49m\u001b[43m(\u001b[49m\u001b[38;5;28;43mself\u001b[39;49m\u001b[43m.\u001b[49m\u001b[43m_dataobj\u001b[49m\u001b[43m,\u001b[49m\u001b[43m \u001b[49m\u001b[43mdtype\u001b[49m\u001b[43m=\u001b[49m\u001b[43mdtype\u001b[49m\u001b[43m)\u001b[49m\n\u001b[32m    375\u001b[39m \u001b[38;5;28;01mif\u001b[39;00m caching == \u001b[33m'\u001b[39m\u001b[33mfill\u001b[39m\u001b[33m'\u001b[39m:\n\u001b[32m    376\u001b[39m     \u001b[38;5;28mself\u001b[39m._fdata_cache = data\n",
      "\u001b[36mFile \u001b[39m\u001b[32m~/github/wb2/tumor-segmentation/venv/lib/python3.12/site-packages/nibabel/arrayproxy.py:454\u001b[39m, in \u001b[36mArrayProxy.__array__\u001b[39m\u001b[34m(self, dtype)\u001b[39m\n\u001b[32m    433\u001b[39m \u001b[38;5;28;01mdef\u001b[39;00m\u001b[38;5;250m \u001b[39m\u001b[34m__array__\u001b[39m(\u001b[38;5;28mself\u001b[39m, dtype=\u001b[38;5;28;01mNone\u001b[39;00m):\n\u001b[32m    434\u001b[39m \u001b[38;5;250m    \u001b[39m\u001b[33;03m\"\"\"Read data from file and apply scaling, casting to ``dtype``\u001b[39;00m\n\u001b[32m    435\u001b[39m \n\u001b[32m    436\u001b[39m \u001b[33;03m    If ``dtype`` is unspecified, the dtype of the returned array is the\u001b[39;00m\n\u001b[32m   (...)\u001b[39m\u001b[32m    452\u001b[39m \u001b[33;03m        Scaled image data with type `dtype`.\u001b[39;00m\n\u001b[32m    453\u001b[39m \u001b[33;03m    \"\"\"\u001b[39;00m\n\u001b[32m--> \u001b[39m\u001b[32m454\u001b[39m     arr = \u001b[38;5;28;43mself\u001b[39;49m\u001b[43m.\u001b[49m\u001b[43m_get_scaled\u001b[49m\u001b[43m(\u001b[49m\u001b[43mdtype\u001b[49m\u001b[43m=\u001b[49m\u001b[43mdtype\u001b[49m\u001b[43m,\u001b[49m\u001b[43m \u001b[49m\u001b[43mslicer\u001b[49m\u001b[43m=\u001b[49m\u001b[43m(\u001b[49m\u001b[43m)\u001b[49m\u001b[43m)\u001b[49m\n\u001b[32m    455\u001b[39m     \u001b[38;5;28;01mif\u001b[39;00m dtype \u001b[38;5;129;01mis\u001b[39;00m \u001b[38;5;129;01mnot\u001b[39;00m \u001b[38;5;28;01mNone\u001b[39;00m:\n\u001b[32m    456\u001b[39m         arr = arr.astype(dtype, copy=\u001b[38;5;28;01mFalse\u001b[39;00m)\n",
      "\u001b[36mFile \u001b[39m\u001b[32m~/github/wb2/tumor-segmentation/venv/lib/python3.12/site-packages/nibabel/arrayproxy.py:421\u001b[39m, in \u001b[36mArrayProxy._get_scaled\u001b[39m\u001b[34m(self, dtype, slicer)\u001b[39m\n\u001b[32m    419\u001b[39m     scl_inter = scl_inter.astype(use_dtype)\n\u001b[32m    420\u001b[39m \u001b[38;5;66;03m# Read array and upcast as necessary for big slopes, intercepts\u001b[39;00m\n\u001b[32m--> \u001b[39m\u001b[32m421\u001b[39m scaled = apply_read_scaling(\u001b[38;5;28;43mself\u001b[39;49m\u001b[43m.\u001b[49m\u001b[43m_get_unscaled\u001b[49m\u001b[43m(\u001b[49m\u001b[43mslicer\u001b[49m\u001b[43m=\u001b[49m\u001b[43mslicer\u001b[49m\u001b[43m)\u001b[49m, scl_slope, scl_inter)\n\u001b[32m    422\u001b[39m \u001b[38;5;28;01mif\u001b[39;00m dtype \u001b[38;5;129;01mis\u001b[39;00m \u001b[38;5;129;01mnot\u001b[39;00m \u001b[38;5;28;01mNone\u001b[39;00m:\n\u001b[32m    423\u001b[39m     scaled = scaled.astype(np.promote_types(scaled.dtype, dtype), copy=\u001b[38;5;28;01mFalse\u001b[39;00m)\n",
      "\u001b[36mFile \u001b[39m\u001b[32m~/github/wb2/tumor-segmentation/venv/lib/python3.12/site-packages/nibabel/arrayproxy.py:391\u001b[39m, in \u001b[36mArrayProxy._get_unscaled\u001b[39m\u001b[34m(self, slicer)\u001b[39m\n\u001b[32m    387\u001b[39m \u001b[38;5;28;01mif\u001b[39;00m canonical_slicers(slicer, \u001b[38;5;28mself\u001b[39m._shape, \u001b[38;5;28;01mFalse\u001b[39;00m) == canonical_slicers(\n\u001b[32m    388\u001b[39m     (), \u001b[38;5;28mself\u001b[39m._shape, \u001b[38;5;28;01mFalse\u001b[39;00m\n\u001b[32m    389\u001b[39m ):\n\u001b[32m    390\u001b[39m     \u001b[38;5;28;01mwith\u001b[39;00m \u001b[38;5;28mself\u001b[39m._get_fileobj() \u001b[38;5;28;01mas\u001b[39;00m fileobj, \u001b[38;5;28mself\u001b[39m._lock:\n\u001b[32m--> \u001b[39m\u001b[32m391\u001b[39m         \u001b[38;5;28;01mreturn\u001b[39;00m \u001b[43marray_from_file\u001b[49m\u001b[43m(\u001b[49m\n\u001b[32m    392\u001b[39m \u001b[43m            \u001b[49m\u001b[38;5;28;43mself\u001b[39;49m\u001b[43m.\u001b[49m\u001b[43m_shape\u001b[49m\u001b[43m,\u001b[49m\n\u001b[32m    393\u001b[39m \u001b[43m            \u001b[49m\u001b[38;5;28;43mself\u001b[39;49m\u001b[43m.\u001b[49m\u001b[43m_dtype\u001b[49m\u001b[43m,\u001b[49m\n\u001b[32m    394\u001b[39m \u001b[43m            \u001b[49m\u001b[43mfileobj\u001b[49m\u001b[43m,\u001b[49m\n\u001b[32m    395\u001b[39m \u001b[43m            \u001b[49m\u001b[43moffset\u001b[49m\u001b[43m=\u001b[49m\u001b[38;5;28;43mself\u001b[39;49m\u001b[43m.\u001b[49m\u001b[43m_offset\u001b[49m\u001b[43m,\u001b[49m\n\u001b[32m    396\u001b[39m \u001b[43m            \u001b[49m\u001b[43morder\u001b[49m\u001b[43m=\u001b[49m\u001b[38;5;28;43mself\u001b[39;49m\u001b[43m.\u001b[49m\u001b[43morder\u001b[49m\u001b[43m,\u001b[49m\n\u001b[32m    397\u001b[39m \u001b[43m            \u001b[49m\u001b[43mmmap\u001b[49m\u001b[43m=\u001b[49m\u001b[38;5;28;43mself\u001b[39;49m\u001b[43m.\u001b[49m\u001b[43m_mmap\u001b[49m\u001b[43m,\u001b[49m\n\u001b[32m    398\u001b[39m \u001b[43m        \u001b[49m\u001b[43m)\u001b[49m\n\u001b[32m    399\u001b[39m \u001b[38;5;28;01mwith\u001b[39;00m \u001b[38;5;28mself\u001b[39m._get_fileobj() \u001b[38;5;28;01mas\u001b[39;00m fileobj:\n\u001b[32m    400\u001b[39m     \u001b[38;5;28;01mreturn\u001b[39;00m fileslice(\n\u001b[32m    401\u001b[39m         fileobj,\n\u001b[32m    402\u001b[39m         slicer,\n\u001b[32m   (...)\u001b[39m\u001b[32m    407\u001b[39m         lock=\u001b[38;5;28mself\u001b[39m._lock,\n\u001b[32m    408\u001b[39m     )\n",
      "\u001b[36mFile \u001b[39m\u001b[32m~/github/wb2/tumor-segmentation/venv/lib/python3.12/site-packages/nibabel/volumeutils.py:467\u001b[39m, in \u001b[36marray_from_file\u001b[39m\u001b[34m(shape, in_dtype, infile, offset, order, mmap)\u001b[39m\n\u001b[32m    465\u001b[39m \u001b[38;5;28;01mif\u001b[39;00m \u001b[38;5;28mhasattr\u001b[39m(infile, \u001b[33m'\u001b[39m\u001b[33mreadinto\u001b[39m\u001b[33m'\u001b[39m):\n\u001b[32m    466\u001b[39m     data_bytes = \u001b[38;5;28mbytearray\u001b[39m(n_bytes)\n\u001b[32m--> \u001b[39m\u001b[32m467\u001b[39m     n_read = \u001b[43minfile\u001b[49m\u001b[43m.\u001b[49m\u001b[43mreadinto\u001b[49m\u001b[43m(\u001b[49m\u001b[43mdata_bytes\u001b[49m\u001b[43m)\u001b[49m\n\u001b[32m    468\u001b[39m     needs_copy = \u001b[38;5;28;01mFalse\u001b[39;00m\n\u001b[32m    469\u001b[39m \u001b[38;5;28;01melse\u001b[39;00m:\n",
      "\u001b[36mFile \u001b[39m\u001b[32m/usr/lib/python3.12/gzip.py:324\u001b[39m, in \u001b[36mGzipFile.read\u001b[39m\u001b[34m(self, size)\u001b[39m\n\u001b[32m    322\u001b[39m     \u001b[38;5;28;01mimport\u001b[39;00m\u001b[38;5;250m \u001b[39m\u001b[34;01merrno\u001b[39;00m\n\u001b[32m    323\u001b[39m     \u001b[38;5;28;01mraise\u001b[39;00m \u001b[38;5;167;01mOSError\u001b[39;00m(errno.EBADF, \u001b[33m\"\u001b[39m\u001b[33mread() on write-only GzipFile object\u001b[39m\u001b[33m\"\u001b[39m)\n\u001b[32m--> \u001b[39m\u001b[32m324\u001b[39m \u001b[38;5;28;01mreturn\u001b[39;00m \u001b[38;5;28;43mself\u001b[39;49m\u001b[43m.\u001b[49m\u001b[43m_buffer\u001b[49m\u001b[43m.\u001b[49m\u001b[43mread\u001b[49m\u001b[43m(\u001b[49m\u001b[43msize\u001b[49m\u001b[43m)\u001b[49m\n",
      "\u001b[36mFile \u001b[39m\u001b[32m/usr/lib/python3.12/_compression.py:68\u001b[39m, in \u001b[36mDecompressReader.readinto\u001b[39m\u001b[34m(self, b)\u001b[39m\n\u001b[32m     66\u001b[39m \u001b[38;5;28;01mdef\u001b[39;00m\u001b[38;5;250m \u001b[39m\u001b[34mreadinto\u001b[39m(\u001b[38;5;28mself\u001b[39m, b):\n\u001b[32m     67\u001b[39m     \u001b[38;5;28;01mwith\u001b[39;00m \u001b[38;5;28mmemoryview\u001b[39m(b) \u001b[38;5;28;01mas\u001b[39;00m view, view.cast(\u001b[33m\"\u001b[39m\u001b[33mB\u001b[39m\u001b[33m\"\u001b[39m) \u001b[38;5;28;01mas\u001b[39;00m byte_view:\n\u001b[32m---> \u001b[39m\u001b[32m68\u001b[39m         data = \u001b[38;5;28;43mself\u001b[39;49m\u001b[43m.\u001b[49m\u001b[43mread\u001b[49m\u001b[43m(\u001b[49m\u001b[38;5;28;43mlen\u001b[39;49m\u001b[43m(\u001b[49m\u001b[43mbyte_view\u001b[49m\u001b[43m)\u001b[49m\u001b[43m)\u001b[49m\n\u001b[32m     69\u001b[39m         byte_view[:\u001b[38;5;28mlen\u001b[39m(data)] = data\n\u001b[32m     70\u001b[39m     \u001b[38;5;28;01mreturn\u001b[39;00m \u001b[38;5;28mlen\u001b[39m(data)\n",
      "\u001b[36mFile \u001b[39m\u001b[32m/usr/lib/python3.12/gzip.py:537\u001b[39m, in \u001b[36m_GzipReader.read\u001b[39m\u001b[34m(self, size)\u001b[39m\n\u001b[32m    535\u001b[39m     uncompress = \u001b[38;5;28mself\u001b[39m._decompressor.decompress(buf, size)\n\u001b[32m    536\u001b[39m \u001b[38;5;28;01melse\u001b[39;00m:\n\u001b[32m--> \u001b[39m\u001b[32m537\u001b[39m     uncompress = \u001b[38;5;28;43mself\u001b[39;49m\u001b[43m.\u001b[49m\u001b[43m_decompressor\u001b[49m\u001b[43m.\u001b[49m\u001b[43mdecompress\u001b[49m\u001b[43m(\u001b[49m\u001b[33;43mb\u001b[39;49m\u001b[33;43m\"\u001b[39;49m\u001b[33;43m\"\u001b[39;49m\u001b[43m,\u001b[49m\u001b[43m \u001b[49m\u001b[43msize\u001b[49m\u001b[43m)\u001b[49m\n\u001b[32m    539\u001b[39m \u001b[38;5;28;01mif\u001b[39;00m \u001b[38;5;28mself\u001b[39m._decompressor.unused_data != \u001b[33mb\u001b[39m\u001b[33m\"\u001b[39m\u001b[33m\"\u001b[39m:\n\u001b[32m    540\u001b[39m     \u001b[38;5;66;03m# Prepend the already read bytes to the fileobj so they can\u001b[39;00m\n\u001b[32m    541\u001b[39m     \u001b[38;5;66;03m# be seen by _read_eof() and _read_gzip_header()\u001b[39;00m\n\u001b[32m    542\u001b[39m     \u001b[38;5;28mself\u001b[39m._fp.prepend(\u001b[38;5;28mself\u001b[39m._decompressor.unused_data)\n",
      "\u001b[31mKeyboardInterrupt\u001b[39m: "
     ]
    }
   ],
   "source": [
    "seg_dir = \"../brats_data/BraTS2021/segmentation\"\n",
    "pred_dir = \"../brats_data/BraTS2021/output\"\n",
    "results = evaluate(seg_dir, pred_dir)\n",
    "\n",
    "for case, scores in results.items():\n",
    "    print(f\"{case}:\")\n",
    "    for label, dice in scores.items():\n",
    "        print(f\"  {label}: {dice:.4f}\")"
   ]
  },
  {
   "cell_type": "code",
   "execution_count": 5,
   "id": "4c68ba54",
   "metadata": {},
   "outputs": [],
   "source": [
    "def compute_results(dataset_name):\n",
    "    seg_dir = f\"../brats_data/{dataset_name}/segmentation\"\n",
    "    pred_dir = f\"../brats_data/{dataset_name}/output\"\n",
    "    results_dir = f\"results\"\n",
    "    results_file = f\"{dataset_name}_results.csv\"\n",
    "    new_data = False if dataset_name == \"BraTS2021\" else True\n",
    "    results = evaluate(seg_dir, pred_dir, new_data=new_data)\n",
    "\n",
    "    rows = []\n",
    "    for case, scores in results.items():\n",
    "        row = {'Case': case}\n",
    "        row.update(scores)\n",
    "        rows.append(row)\n",
    "        # print(f\"{case}:\")\n",
    "        # for label, dice in scores.items():\n",
    "        #     print(f\"  {label}: {dice:.4f}\")\n",
    "\n",
    "    df = pd.DataFrame(rows)\n",
    "    df.columns = ['Case', 'Tumor core', 'Edema', 'Enhancing tumor', 'Whole tumor']\n",
    "    \n",
    "    df.to_csv(os.path.join(results_dir, results_file), index=False)\n",
    "    print(f\"Computing for {dataset_name} completed 🟢\")"
   ]
  },
  {
   "cell_type": "code",
   "execution_count": 6,
   "id": "424b2fcc",
   "metadata": {},
   "outputs": [
    {
     "name": "stderr",
     "output_type": "stream",
     "text": [
      "100%|██████████| 200/200 [00:43<00:00,  4.62it/s]\n"
     ]
    },
    {
     "name": "stdout",
     "output_type": "stream",
     "text": [
      "Computing for BraTS2021 completed 🟢\n"
     ]
    },
    {
     "name": "stderr",
     "output_type": "stream",
     "text": [
      "100%|██████████| 106/106 [00:18<00:00,  5.88it/s]\n"
     ]
    },
    {
     "name": "stdout",
     "output_type": "stream",
     "text": [
      "Computing for BraTS2024-Pre completed 🟢\n"
     ]
    },
    {
     "name": "stderr",
     "output_type": "stream",
     "text": [
      "100%|██████████| 200/200 [00:36<00:00,  5.54it/s]\n"
     ]
    },
    {
     "name": "stdout",
     "output_type": "stream",
     "text": [
      "Computing for BraTS2024-Post completed 🟢\n"
     ]
    },
    {
     "name": "stderr",
     "output_type": "stream",
     "text": [
      "100%|██████████| 50/50 [00:15<00:00,  3.19it/s]"
     ]
    },
    {
     "name": "stdout",
     "output_type": "stream",
     "text": [
      "Computing for BraTSafrica completed 🟢\n"
     ]
    },
    {
     "name": "stderr",
     "output_type": "stream",
     "text": [
      "\n"
     ]
    }
   ],
   "source": [
    "datasets = [\"BraTS2021\", \"BraTS2024-Pre\", \"BraTS2024-Post\", \"BraTSafrica\"]\n",
    "for dataset in datasets:\n",
    "    compute_results(dataset)"
   ]
  },
  {
   "cell_type": "code",
   "execution_count": 34,
   "id": "d236448e",
   "metadata": {},
   "outputs": [],
   "source": [
    "def plot_segmentation_slice(seg_path, title=None):\n",
    "    # Load volume\n",
    "    seg = nib.load(seg_path).get_fdata()\n",
    "    \n",
    "    # Find slice with largest tumor area\n",
    "    sum_per_slice = [np.sum(seg[:, :, i] > 0) for i in range(seg.shape[2])]\n",
    "    if max(sum_per_slice) == 0:\n",
    "        print(\"No tumor found in the volume.\")\n",
    "        return\n",
    "    best_slice_idx = np.argmax(sum_per_slice)\n",
    "    seg_slice = seg[:, :, best_slice_idx]\n",
    "\n",
    "    # Prepare RGB overlay\n",
    "    rgb = np.zeros(seg_slice.shape + (3,), dtype=np.uint8)\n",
    "\n",
    "    label_map = {\n",
    "        1: [255, 0, 0],    # Tumor core – red\n",
    "        2: [0, 255, 0],    # Edema – green\n",
    "        4: [0, 0, 255],    # Enhancing tumor – blue\n",
    "    }\n",
    "\n",
    "    for label, color in label_map.items():\n",
    "        rgb[seg_slice == label] = color\n",
    "\n",
    "    # Plot\n",
    "    plt.figure(figsize=(6, 6))\n",
    "    plt.imshow(rgb)\n",
    "    plt.title(title or f\"Segmentation Slice (slice {best_slice_idx})\")\n",
    "    plt.axis('off')\n",
    "    plt.show()\n"
   ]
  },
  {
   "cell_type": "code",
   "execution_count": 30,
   "id": "27225603",
   "metadata": {},
   "outputs": [
    {
     "data": {
      "image/png": "[encoded data removed]",
      "text/plain": [
       "<Figure size 600x600 with 1 Axes>"
      ]
     },
     "metadata": {},
     "output_type": "display_data"
    },
    {
     "data": {
      "image/png": "[encoded data removed]",
      "text/plain": [
       "<Figure size 600x600 with 1 Axes>"
      ]
     },
     "metadata": {},
     "output_type": "display_data"
    }
   ],
   "source": [
    "plot_segmentation_slice(seg_path=r'../brats_data/BraTS2021\\output\\00011.nii.gz', title=\"Segmentation Slice for Case 00011\")\n",
    "plot_segmentation_slice(seg_path=r'../brats_data/BraTS2024-Post\\output\\02770.nii.gz', title=\"Segmentation Slice for Case 00009 (New Data)\")"
   ]
  }
 ],
 "metadata": {
  "kernelspec": {
   "display_name": "venv",
   "language": "python",
   "name": "python3"
  },
  "language_info": {
   "codemirror_mode": {
    "name": "ipython",
    "version": 3
   },
   "file_extension": ".py",
   "mimetype": "text/x-python",
   "name": "python",
   "nbconvert_exporter": "python",
   "pygments_lexer": "ipython3",
   "version": "3.12.3"
  }
 },
 "nbformat": 4,
 "nbformat_minor": 5
}
